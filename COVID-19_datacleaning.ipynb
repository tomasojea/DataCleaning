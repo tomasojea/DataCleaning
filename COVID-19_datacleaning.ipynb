{
 "cells": [
  {
   "cell_type": "code",
   "execution_count": 21,
   "metadata": {},
   "outputs": [],
   "source": [
    "import pandas as pd\n",
    "\n",
    "patient_df = pd.read_csv('data/patient.csv')\n",
    "route_df = pd.read_csv('data/route.csv')\n"
   ]
  },
  {
   "cell_type": "code",
   "execution_count": 22,
   "metadata": {},
   "outputs": [],
   "source": [
    "# Cleaning the columuns with at least '7000' non-NaN values\n",
    "patient_clean = patient_df.dropna(axis=1, thresh=7000)\n",
    "# Changing the column 'id' to 'int'\n",
    "route_df['id'] = route_df['id'].astype(int)\n"
   ]
  },
  {
   "cell_type": "code",
   "execution_count": 23,
   "metadata": {},
   "outputs": [],
   "source": [
    "# Joining two dfs with \"id\" as a key column\n",
    "merged_dfs = patient_clean.set_index('id').join(route_df.set_index('id'))\n",
    "\n",
    "# Cleaning all NaN values\n",
    "merged_dfs_clean = merged_dfs.dropna()"
   ]
  },
  {
   "cell_type": "code",
   "execution_count": null,
   "metadata": {},
   "outputs": [],
   "source": []
  }
 ],
 "metadata": {
  "kernelspec": {
   "display_name": "Python 3",
   "language": "python",
   "name": "python3"
  },
  "language_info": {
   "codemirror_mode": {
    "name": "ipython",
    "version": 3
   },
   "file_extension": ".py",
   "mimetype": "text/x-python",
   "name": "python",
   "nbconvert_exporter": "python",
   "pygments_lexer": "ipython3",
   "version": "3.7.6"
  }
 },
 "nbformat": 4,
 "nbformat_minor": 2
}
